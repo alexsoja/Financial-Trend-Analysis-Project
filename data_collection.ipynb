{
 "cells": [
  {
   "cell_type": "code",
   "execution_count": 3,
   "id": "62257568",
   "metadata": {},
   "outputs": [],
   "source": [
    "import os\n",
    "from dotenv import load_dotenv\n",
    "from fredapi import Fred\n",
    "import pandas as pd\n",
    "\n",
    "# Load environment variables\n",
    "load_dotenv()\n",
    "\n",
    "# Test FRED API connection\n",
    "fred_api_key = os.getenv(\"FRED_API_KEY\")\n",
    "fred = Fred(api_key=fred_api_key)\n",
    "\n",
    "# Try fetching something simple\n",
    "cpi = fred.get_series(\"CPIAUCSL\")            # Consumer Price Index\n",
    "unemployment = fred.get_series(\"UNRATE\")     # Unemployment Rate\n",
    "indpro = fred.get_series(\"INDPRO\")           # Industrial Production\n",
    "retail = fred.get_series(\"RSAFS\")            # Retail Sales\n",
    "gdp = fred.get_series(\"GDP\")                 # GDP (quarterly)"
   ]
  },
  {
   "cell_type": "code",
   "execution_count": 9,
   "id": "96262039",
   "metadata": {},
   "outputs": [
    {
     "name": "stdout",
     "output_type": "stream",
     "text": [
      "Saved cpi.csv, shape: (945, 2)\n",
      "Saved unemployment.csv, shape: (932, 2)\n",
      "Saved industrial_production.csv, shape: (1280, 2)\n",
      "Saved retail_sales.csv, shape: (404, 2)\n",
      "Saved gdp.csv, shape: (318, 2)\n"
     ]
    }
   ],
   "source": [
    "def save_series_as_csv(series, filename):\n",
    "    df = pd.DataFrame({\"date\": series.index, series.name: series.values})\n",
    "    df.to_csv(f\"data/raw/{filename}\", index=False)\n",
    "    print(f\"Saved {filename}, shape: {df.shape}\")\n",
    "\n",
    "save_series_as_csv(cpi, \"cpi.csv\")\n",
    "save_series_as_csv(unemployment, \"unemployment.csv\")\n",
    "save_series_as_csv(indpro, \"industrial_production.csv\")\n",
    "save_series_as_csv(retail, \"retail_sales.csv\")\n",
    "save_series_as_csv(gdp, \"gdp.csv\")"
   ]
  },
  {
   "cell_type": "code",
   "execution_count": 7,
   "id": "a9629459",
   "metadata": {},
   "outputs": [
    {
     "name": "stderr",
     "output_type": "stream",
     "text": [
      "/var/folders/lg/6qn5h0zx1rbbp7z4jx4g54980000gr/T/ipykernel_32958/1331092264.py:4: FutureWarning: YF.download() has changed argument auto_adjust default to True\n",
      "  sp500 = yf.download('^GSPC', start='2015-01-01', end='2025-01-01')\n",
      "[*********************100%***********************]  1 of 1 completed\n"
     ]
    },
    {
     "data": {
      "text/html": [
       "<div>\n",
       "<style scoped>\n",
       "    .dataframe tbody tr th:only-of-type {\n",
       "        vertical-align: middle;\n",
       "    }\n",
       "\n",
       "    .dataframe tbody tr th {\n",
       "        vertical-align: top;\n",
       "    }\n",
       "\n",
       "    .dataframe thead tr th {\n",
       "        text-align: left;\n",
       "    }\n",
       "\n",
       "    .dataframe thead tr:last-of-type th {\n",
       "        text-align: right;\n",
       "    }\n",
       "</style>\n",
       "<table border=\"1\" class=\"dataframe\">\n",
       "  <thead>\n",
       "    <tr>\n",
       "      <th>Price</th>\n",
       "      <th>Close</th>\n",
       "      <th>High</th>\n",
       "      <th>Low</th>\n",
       "      <th>Open</th>\n",
       "      <th>Volume</th>\n",
       "    </tr>\n",
       "    <tr>\n",
       "      <th>Ticker</th>\n",
       "      <th>^GSPC</th>\n",
       "      <th>^GSPC</th>\n",
       "      <th>^GSPC</th>\n",
       "      <th>^GSPC</th>\n",
       "      <th>^GSPC</th>\n",
       "    </tr>\n",
       "    <tr>\n",
       "      <th>Date</th>\n",
       "      <th></th>\n",
       "      <th></th>\n",
       "      <th></th>\n",
       "      <th></th>\n",
       "      <th></th>\n",
       "    </tr>\n",
       "  </thead>\n",
       "  <tbody>\n",
       "    <tr>\n",
       "      <th>2015-01-02</th>\n",
       "      <td>2058.199951</td>\n",
       "      <td>2072.360107</td>\n",
       "      <td>2046.040039</td>\n",
       "      <td>2058.899902</td>\n",
       "      <td>2708700000</td>\n",
       "    </tr>\n",
       "    <tr>\n",
       "      <th>2015-01-05</th>\n",
       "      <td>2020.579956</td>\n",
       "      <td>2054.439941</td>\n",
       "      <td>2017.339966</td>\n",
       "      <td>2054.439941</td>\n",
       "      <td>3799120000</td>\n",
       "    </tr>\n",
       "    <tr>\n",
       "      <th>2015-01-06</th>\n",
       "      <td>2002.609985</td>\n",
       "      <td>2030.250000</td>\n",
       "      <td>1992.439941</td>\n",
       "      <td>2022.150024</td>\n",
       "      <td>4460110000</td>\n",
       "    </tr>\n",
       "    <tr>\n",
       "      <th>2015-01-07</th>\n",
       "      <td>2025.900024</td>\n",
       "      <td>2029.609985</td>\n",
       "      <td>2005.550049</td>\n",
       "      <td>2005.550049</td>\n",
       "      <td>3805480000</td>\n",
       "    </tr>\n",
       "    <tr>\n",
       "      <th>2015-01-08</th>\n",
       "      <td>2062.139893</td>\n",
       "      <td>2064.080078</td>\n",
       "      <td>2030.609985</td>\n",
       "      <td>2030.609985</td>\n",
       "      <td>3934010000</td>\n",
       "    </tr>\n",
       "  </tbody>\n",
       "</table>\n",
       "</div>"
      ],
      "text/plain": [
       "Price             Close         High          Low         Open      Volume\n",
       "Ticker            ^GSPC        ^GSPC        ^GSPC        ^GSPC       ^GSPC\n",
       "Date                                                                      \n",
       "2015-01-02  2058.199951  2072.360107  2046.040039  2058.899902  2708700000\n",
       "2015-01-05  2020.579956  2054.439941  2017.339966  2054.439941  3799120000\n",
       "2015-01-06  2002.609985  2030.250000  1992.439941  2022.150024  4460110000\n",
       "2015-01-07  2025.900024  2029.609985  2005.550049  2005.550049  3805480000\n",
       "2015-01-08  2062.139893  2064.080078  2030.609985  2030.609985  3934010000"
      ]
     },
     "execution_count": 7,
     "metadata": {},
     "output_type": "execute_result"
    }
   ],
   "source": [
    "import yfinance as yf\n",
    "\n",
    "# Example: Get historical S&P 500 data\n",
    "sp500 = yf.download('^GSPC', start='2015-01-01', end='2025-01-01')\n",
    "\n",
    "sp500.head()"
   ]
  },
  {
   "cell_type": "code",
   "execution_count": 3,
   "id": "9da1a38e",
   "metadata": {},
   "outputs": [
    {
     "name": "stdout",
     "output_type": "stream",
     "text": [
      "Datasets saved to /data/raw successfully!\n"
     ]
    }
   ],
   "source": [
    "gdp.to_csv('data/raw/gdp.csv')\n",
    "sp500.to_csv('data/raw/sp500.csv')\n",
    "\n",
    "print(\"Datasets saved to /data/raw successfully!\")"
   ]
  }
 ],
 "metadata": {
  "kernelspec": {
   "display_name": "Python 3",
   "language": "python",
   "name": "python3"
  },
  "language_info": {
   "codemirror_mode": {
    "name": "ipython",
    "version": 3
   },
   "file_extension": ".py",
   "mimetype": "text/x-python",
   "name": "python",
   "nbconvert_exporter": "python",
   "pygments_lexer": "ipython3",
   "version": "3.12.5"
  }
 },
 "nbformat": 4,
 "nbformat_minor": 5
}
